{
 "cells": [
  {
   "attachments": {},
   "cell_type": "markdown",
   "metadata": {},
   "source": [
    "# ResNet34 pretrained on ImageNet and fully fine-tuned on MNIST"
   ]
  },
  {
   "cell_type": "code",
   "execution_count": 2,
   "metadata": {},
   "outputs": [],
   "source": [
    "from torchvision import datasets\n",
    "from torchvision.transforms import ToTensor\n",
    "from torchvision.models import resnet34, ResNet34_Weights\n",
    "import torch\n",
    "from tqdm.notebook import tqdm\n",
    "from torch import nn \n",
    "from torch.utils.data import DataLoader\n",
    "import matplotlib.pyplot as plt"
   ]
  },
  {
   "cell_type": "code",
   "execution_count": 3,
   "metadata": {},
   "outputs": [],
   "source": [
    "# Hyperparameters\n",
    "batch_size = 256\n",
    "ce_loss = nn.CrossEntropyLoss()\n",
    "learning_rate = 0.1\n",
    "weight_decay = 0.001\n",
    "momentum = 0.0\n",
    "epoch = 1"
   ]
  },
  {
   "attachments": {},
   "cell_type": "markdown",
   "metadata": {},
   "source": [
    "## MNIST Dataset"
   ]
  },
  {
   "cell_type": "code",
   "execution_count": 4,
   "metadata": {},
   "outputs": [],
   "source": [
    "# Download traning and test data from open datasets --- MNIST\n",
    "def mnist():\n",
    "    training_data = datasets.MNIST(\n",
    "        root=\"data\",\n",
    "        train=True,\n",
    "        download=True,\n",
    "        transform=ToTensor()\n",
    "    )\n",
    "\n",
    "    test_data = datasets.MNIST(\n",
    "        root='data',\n",
    "        train=False,\n",
    "        download=True,\n",
    "        transform=ToTensor()\n",
    "    )\n",
    "\n",
    "    num_classes = 10\n",
    "    return training_data, test_data, num_classes"
   ]
  },
  {
   "cell_type": "code",
   "execution_count": 5,
   "metadata": {},
   "outputs": [
    {
     "name": "stdout",
     "output_type": "stream",
     "text": [
      "Using cuda device \n",
      "\n"
     ]
    }
   ],
   "source": [
    "#gpu \n",
    "device = 'cuda' if torch.cuda.is_available() else \"cpu\"\n",
    "print(\"Using {} device \\n\".format(device))\n",
    "\n",
    "# Dataloader\n",
    "training_data, test_data, NUM_CLASSES = mnist()\n",
    "train_dataloader = DataLoader(training_data, batch_size=batch_size)\n",
    "test_dataloader = DataLoader(test_data, batch_size=batch_size)"
   ]
  },
  {
   "attachments": {},
   "cell_type": "markdown",
   "metadata": {},
   "source": [
    "## Model"
   ]
  },
  {
   "cell_type": "code",
   "execution_count": 6,
   "metadata": {},
   "outputs": [],
   "source": [
    "model = resnet34(weights=ResNet34_Weights.DEFAULT)\n",
    "# for param in model.parameters():\n",
    "#     param.requires_grad=False\n",
    "model.fc = nn.Linear(512, 10)\n",
    "model = model.to(device)\n",
    "# preprocess = model.transforms()\n",
    "# img_transformed = preprocess(img)\n"
   ]
  },
  {
   "cell_type": "code",
   "execution_count": 7,
   "metadata": {},
   "outputs": [],
   "source": [
    "# model = ResNet().to(device)\n",
    "optimizer = torch.optim.SGD(model.parameters(), lr=learning_rate, momentum=momentum, weight_decay=weight_decay)\n",
    "scheduler = torch.optim.lr_scheduler.ReduceLROnPlateau(optimizer, mode='min', factor=0.1, patience=0, min_lr=1e-3, threshold=0.1)"
   ]
  },
  {
   "cell_type": "code",
   "execution_count": 8,
   "metadata": {},
   "outputs": [],
   "source": [
    "# Accuracy \n",
    "def accuracy(y_pred, target):\n",
    "    train_acc = torch.sum(torch.argmax(y_pred, dim=1) == target)\n",
    "    final_train_acc = train_acc/target.shape[0]\n",
    "    return final_train_acc * 100"
   ]
  },
  {
   "cell_type": "code",
   "execution_count": 9,
   "metadata": {},
   "outputs": [],
   "source": [
    "all_train_losses=[]\n",
    "all_test_losses=[]\n",
    "all_train_accuracy=[]\n",
    "all_test_accuracy=[]"
   ]
  },
  {
   "cell_type": "code",
   "execution_count": 10,
   "metadata": {},
   "outputs": [],
   "source": [
    "def train():\n",
    "    cur_step = 0\n",
    "    for features, label in train_dataloader:\n",
    "        features = features.to(device)\n",
    "        features = features.repeat(1,3,1,1)\n",
    "        logits = model(features.to(device))\n",
    "        label = label.to(device)\n",
    "\n",
    "        loss = ce_loss(logits, label)\n",
    "        accuracy_batch = accuracy(logits, label)\n",
    "        all_train_losses.append(loss.item())\n",
    "        all_train_accuracy.append(accuracy_batch.item())\n",
    "\n",
    "        optimizer.zero_grad()\n",
    "        loss.backward()\n",
    "        if cur_step % 100 == 0:\n",
    "           print('\\033[32m' + f\"Step = {cur_step}, Train Loss = {loss:.3f}, Train Accuracy = {accuracy_batch:.2f}%\" + '\\033[0m')\n",
    "        optimizer.step()\n",
    "        cur_step += 1"
   ]
  },
  {
   "cell_type": "code",
   "execution_count": 11,
   "metadata": {},
   "outputs": [],
   "source": [
    "def test():\n",
    "    model.eval()\n",
    "    total_loss = 0\n",
    "    total_accuracy = 0\n",
    "    step = 0\n",
    "    \n",
    "    for features, label in test_dataloader:\n",
    "        with torch.no_grad():\n",
    "            features = features.to(device)\n",
    "            features = features.repeat(1,3,1,1)\n",
    "            logits = model(features)\n",
    "            label = label.to(device)\n",
    "            loss = ce_loss(logits, label)\n",
    "            total_loss += loss.item()\n",
    "            accuracy_batch = accuracy(logits, label)\n",
    "            total_accuracy += accuracy_batch.item()\n",
    "            step += 1\n",
    "    total_loss = total_loss / step\n",
    "    total_accuracy = total_accuracy /step\n",
    "\n",
    "    all_test_losses.append(total_loss)\n",
    "    all_test_accuracy.append(total_accuracy)\n",
    "    print('\\033[31m' + f\"Test Loss = {total_loss:.3f}, Test Accuracy = {total_accuracy:.2f}%\" + '\\033[0m')\n",
    "    model.train()\n",
    "    return total_loss"
   ]
  },
  {
   "cell_type": "code",
   "execution_count": 12,
   "metadata": {},
   "outputs": [
    {
     "data": {
      "application/vnd.jupyter.widget-view+json": {
       "model_id": "c29602dc42e4470ead9d3ea4bf3e8a93",
       "version_major": 2,
       "version_minor": 0
      },
      "text/plain": [
       "  0%|          | 0/1 [00:00<?, ?it/s]"
      ]
     },
     "metadata": {},
     "output_type": "display_data"
    },
    {
     "name": "stdout",
     "output_type": "stream",
     "text": [
      "\n",
      "\u001b[34mEpoch 1\u001b[0m\n"
     ]
    },
    {
     "name": "stdout",
     "output_type": "stream",
     "text": [
      "\u001b[32mStep = 0, Train Loss = 2.588, Train Accuracy = 8.98%\u001b[0m\n",
      "\u001b[32mStep = 100, Train Loss = 0.069, Train Accuracy = 97.66%\u001b[0m\n",
      "\u001b[32mStep = 200, Train Loss = 0.042, Train Accuracy = 98.44%\u001b[0m\n",
      "\u001b[31mTest Loss = 0.034, Test Accuracy = 99.12%\u001b[0m\n",
      "Learning Rate = 0.1\n"
     ]
    }
   ],
   "source": [
    "for i in tqdm(range(epoch)):\n",
    "    print()\n",
    "    print('\\033[34m' + f\"Epoch {i+1}\" + '\\033[0m')\n",
    "    train()\n",
    "    test_loss = test()\n",
    "    scheduler.step(test_loss)\n",
    "    print(f\"Learning Rate = {optimizer.param_groups[0]['lr']}\")"
   ]
  },
  {
   "cell_type": "code",
   "execution_count": 13,
   "metadata": {},
   "outputs": [],
   "source": [
    "def smooth(scalars, weight):  # Weight between 0 and 1\n",
    "    last = scalars[0]  # First value in the plot (first timestep)\n",
    "    smoothed = list()\n",
    "    for point in scalars:\n",
    "        smoothed_val = last * weight + (1 - weight) * point  # Calculate smoothed value\n",
    "        smoothed.append(smoothed_val)                        # Save it\n",
    "        last = smoothed_val                                  # Anchor the last smoothed value\n",
    "\n",
    "    return smoothed"
   ]
  },
  {
   "cell_type": "code",
   "execution_count": 23,
   "metadata": {},
   "outputs": [
    {
     "data": {
      "image/png": "[encoded data removed]",
      "text/plain": [
       "<Figure size 640x480 with 1 Axes>"
      ]
     },
     "metadata": {},
     "output_type": "display_data"
    },
    {
     "data": {
      "image/png": "[encoded data removed]",
      "text/plain": [
       "<Figure size 640x480 with 1 Axes>"
      ]
     },
     "metadata": {},
     "output_type": "display_data"
    }
   ],
   "source": [
    "import numpy as np\n",
    "plt.plot(smooth(all_train_losses, 0.9), label='Train Loss')\n",
    "steps_per_epoch = len(train_dataloader)\n",
    "test_iterations = [steps_per_epoch*(i+1) for i in range(epoch)]\n",
    "plt.scatter(test_iterations, all_test_losses, label='Test Loss', color='red')\n",
    "plt.ylim([0, 3.0])\n",
    "plt.xlabel('Iterations ->')\n",
    "plt.ylabel('Loss ->')\n",
    "plt.legend()\n",
    "plt.show()\n",
    "\n",
    "all_train_error = 100 - np.array(all_train_accuracy)\n",
    "all_test_error = 100 - np.array(all_test_accuracy)\n",
    "plt.plot(smooth(all_train_error, 0.9), label='Train Error %')\n",
    "plt.scatter(test_iterations, all_test_error, label='Test Error %', color='red')\n",
    "plt.xlabel('Iterations ->')\n",
    "plt.ylabel('Error % ->')\n",
    "plt.ylim([0, 100])\n",
    "plt.legend()\n",
    "plt.show()"
   ]
  },
  {
   "cell_type": "code",
   "execution_count": 15,
   "metadata": {},
   "outputs": [
    {
     "data": {
      "text/plain": [
       "==========================================================================================\n",
       "Layer (type:depth-idx)                   Output Shape              Param #\n",
       "==========================================================================================\n",
       "ResNet                                   [256, 10]                 --\n",
       "├─Conv2d: 1-1                            [256, 64, 14, 14]         9,408\n",
       "├─BatchNorm2d: 1-2                       [256, 64, 14, 14]         128\n",
       "├─ReLU: 1-3                              [256, 64, 14, 14]         --\n",
       "├─MaxPool2d: 1-4                         [256, 64, 7, 7]           --\n",
       "├─Sequential: 1-5                        [256, 64, 7, 7]           --\n",
       "│    └─BasicBlock: 2-1                   [256, 64, 7, 7]           --\n",
       "│    │    └─Conv2d: 3-1                  [256, 64, 7, 7]           36,864\n",
       "│    │    └─BatchNorm2d: 3-2             [256, 64, 7, 7]           128\n",
       "│    │    └─ReLU: 3-3                    [256, 64, 7, 7]           --\n",
       "│    │    └─Conv2d: 3-4                  [256, 64, 7, 7]           36,864\n",
       "│    │    └─BatchNorm2d: 3-5             [256, 64, 7, 7]           128\n",
       "│    │    └─ReLU: 3-6                    [256, 64, 7, 7]           --\n",
       "│    └─BasicBlock: 2-2                   [256, 64, 7, 7]           --\n",
       "│    │    └─Conv2d: 3-7                  [256, 64, 7, 7]           36,864\n",
       "│    │    └─BatchNorm2d: 3-8             [256, 64, 7, 7]           128\n",
       "│    │    └─ReLU: 3-9                    [256, 64, 7, 7]           --\n",
       "│    │    └─Conv2d: 3-10                 [256, 64, 7, 7]           36,864\n",
       "│    │    └─BatchNorm2d: 3-11            [256, 64, 7, 7]           128\n",
       "│    │    └─ReLU: 3-12                   [256, 64, 7, 7]           --\n",
       "│    └─BasicBlock: 2-3                   [256, 64, 7, 7]           --\n",
       "│    │    └─Conv2d: 3-13                 [256, 64, 7, 7]           36,864\n",
       "│    │    └─BatchNorm2d: 3-14            [256, 64, 7, 7]           128\n",
       "│    │    └─ReLU: 3-15                   [256, 64, 7, 7]           --\n",
       "│    │    └─Conv2d: 3-16                 [256, 64, 7, 7]           36,864\n",
       "│    │    └─BatchNorm2d: 3-17            [256, 64, 7, 7]           128\n",
       "│    │    └─ReLU: 3-18                   [256, 64, 7, 7]           --\n",
       "├─Sequential: 1-6                        [256, 128, 4, 4]          --\n",
       "│    └─BasicBlock: 2-4                   [256, 128, 4, 4]          --\n",
       "│    │    └─Conv2d: 3-19                 [256, 128, 4, 4]          73,728\n",
       "│    │    └─BatchNorm2d: 3-20            [256, 128, 4, 4]          256\n",
       "│    │    └─ReLU: 3-21                   [256, 128, 4, 4]          --\n",
       "│    │    └─Conv2d: 3-22                 [256, 128, 4, 4]          147,456\n",
       "│    │    └─BatchNorm2d: 3-23            [256, 128, 4, 4]          256\n",
       "│    │    └─Sequential: 3-24             [256, 128, 4, 4]          8,448\n",
       "│    │    └─ReLU: 3-25                   [256, 128, 4, 4]          --\n",
       "│    └─BasicBlock: 2-5                   [256, 128, 4, 4]          --\n",
       "│    │    └─Conv2d: 3-26                 [256, 128, 4, 4]          147,456\n",
       "│    │    └─BatchNorm2d: 3-27            [256, 128, 4, 4]          256\n",
       "│    │    └─ReLU: 3-28                   [256, 128, 4, 4]          --\n",
       "│    │    └─Conv2d: 3-29                 [256, 128, 4, 4]          147,456\n",
       "│    │    └─BatchNorm2d: 3-30            [256, 128, 4, 4]          256\n",
       "│    │    └─ReLU: 3-31                   [256, 128, 4, 4]          --\n",
       "│    └─BasicBlock: 2-6                   [256, 128, 4, 4]          --\n",
       "│    │    └─Conv2d: 3-32                 [256, 128, 4, 4]          147,456\n",
       "│    │    └─BatchNorm2d: 3-33            [256, 128, 4, 4]          256\n",
       "│    │    └─ReLU: 3-34                   [256, 128, 4, 4]          --\n",
       "│    │    └─Conv2d: 3-35                 [256, 128, 4, 4]          147,456\n",
       "│    │    └─BatchNorm2d: 3-36            [256, 128, 4, 4]          256\n",
       "│    │    └─ReLU: 3-37                   [256, 128, 4, 4]          --\n",
       "│    └─BasicBlock: 2-7                   [256, 128, 4, 4]          --\n",
       "│    │    └─Conv2d: 3-38                 [256, 128, 4, 4]          147,456\n",
       "│    │    └─BatchNorm2d: 3-39            [256, 128, 4, 4]          256\n",
       "│    │    └─ReLU: 3-40                   [256, 128, 4, 4]          --\n",
       "│    │    └─Conv2d: 3-41                 [256, 128, 4, 4]          147,456\n",
       "│    │    └─BatchNorm2d: 3-42            [256, 128, 4, 4]          256\n",
       "│    │    └─ReLU: 3-43                   [256, 128, 4, 4]          --\n",
       "├─Sequential: 1-7                        [256, 256, 2, 2]          --\n",
       "│    └─BasicBlock: 2-8                   [256, 256, 2, 2]          --\n",
       "│    │    └─Conv2d: 3-44                 [256, 256, 2, 2]          294,912\n",
       "│    │    └─BatchNorm2d: 3-45            [256, 256, 2, 2]          512\n",
       "│    │    └─ReLU: 3-46                   [256, 256, 2, 2]          --\n",
       "│    │    └─Conv2d: 3-47                 [256, 256, 2, 2]          589,824\n",
       "│    │    └─BatchNorm2d: 3-48            [256, 256, 2, 2]          512\n",
       "│    │    └─Sequential: 3-49             [256, 256, 2, 2]          33,280\n",
       "│    │    └─ReLU: 3-50                   [256, 256, 2, 2]          --\n",
       "│    └─BasicBlock: 2-9                   [256, 256, 2, 2]          --\n",
       "│    │    └─Conv2d: 3-51                 [256, 256, 2, 2]          589,824\n",
       "│    │    └─BatchNorm2d: 3-52            [256, 256, 2, 2]          512\n",
       "│    │    └─ReLU: 3-53                   [256, 256, 2, 2]          --\n",
       "│    │    └─Conv2d: 3-54                 [256, 256, 2, 2]          589,824\n",
       "│    │    └─BatchNorm2d: 3-55            [256, 256, 2, 2]          512\n",
       "│    │    └─ReLU: 3-56                   [256, 256, 2, 2]          --\n",
       "│    └─BasicBlock: 2-10                  [256, 256, 2, 2]          --\n",
       "│    │    └─Conv2d: 3-57                 [256, 256, 2, 2]          589,824\n",
       "│    │    └─BatchNorm2d: 3-58            [256, 256, 2, 2]          512\n",
       "│    │    └─ReLU: 3-59                   [256, 256, 2, 2]          --\n",
       "│    │    └─Conv2d: 3-60                 [256, 256, 2, 2]          589,824\n",
       "│    │    └─BatchNorm2d: 3-61            [256, 256, 2, 2]          512\n",
       "│    │    └─ReLU: 3-62                   [256, 256, 2, 2]          --\n",
       "│    └─BasicBlock: 2-11                  [256, 256, 2, 2]          --\n",
       "│    │    └─Conv2d: 3-63                 [256, 256, 2, 2]          589,824\n",
       "│    │    └─BatchNorm2d: 3-64            [256, 256, 2, 2]          512\n",
       "│    │    └─ReLU: 3-65                   [256, 256, 2, 2]          --\n",
       "│    │    └─Conv2d: 3-66                 [256, 256, 2, 2]          589,824\n",
       "│    │    └─BatchNorm2d: 3-67            [256, 256, 2, 2]          512\n",
       "│    │    └─ReLU: 3-68                   [256, 256, 2, 2]          --\n",
       "│    └─BasicBlock: 2-12                  [256, 256, 2, 2]          --\n",
       "│    │    └─Conv2d: 3-69                 [256, 256, 2, 2]          589,824\n",
       "│    │    └─BatchNorm2d: 3-70            [256, 256, 2, 2]          512\n",
       "│    │    └─ReLU: 3-71                   [256, 256, 2, 2]          --\n",
       "│    │    └─Conv2d: 3-72                 [256, 256, 2, 2]          589,824\n",
       "│    │    └─BatchNorm2d: 3-73            [256, 256, 2, 2]          512\n",
       "│    │    └─ReLU: 3-74                   [256, 256, 2, 2]          --\n",
       "│    └─BasicBlock: 2-13                  [256, 256, 2, 2]          --\n",
       "│    │    └─Conv2d: 3-75                 [256, 256, 2, 2]          589,824\n",
       "│    │    └─BatchNorm2d: 3-76            [256, 256, 2, 2]          512\n",
       "│    │    └─ReLU: 3-77                   [256, 256, 2, 2]          --\n",
       "│    │    └─Conv2d: 3-78                 [256, 256, 2, 2]          589,824\n",
       "│    │    └─BatchNorm2d: 3-79            [256, 256, 2, 2]          512\n",
       "│    │    └─ReLU: 3-80                   [256, 256, 2, 2]          --\n",
       "├─Sequential: 1-8                        [256, 512, 1, 1]          --\n",
       "│    └─BasicBlock: 2-14                  [256, 512, 1, 1]          --\n",
       "│    │    └─Conv2d: 3-81                 [256, 512, 1, 1]          1,179,648\n",
       "│    │    └─BatchNorm2d: 3-82            [256, 512, 1, 1]          1,024\n",
       "│    │    └─ReLU: 3-83                   [256, 512, 1, 1]          --\n",
       "│    │    └─Conv2d: 3-84                 [256, 512, 1, 1]          2,359,296\n",
       "│    │    └─BatchNorm2d: 3-85            [256, 512, 1, 1]          1,024\n",
       "│    │    └─Sequential: 3-86             [256, 512, 1, 1]          132,096\n",
       "│    │    └─ReLU: 3-87                   [256, 512, 1, 1]          --\n",
       "│    └─BasicBlock: 2-15                  [256, 512, 1, 1]          --\n",
       "│    │    └─Conv2d: 3-88                 [256, 512, 1, 1]          2,359,296\n",
       "│    │    └─BatchNorm2d: 3-89            [256, 512, 1, 1]          1,024\n",
       "│    │    └─ReLU: 3-90                   [256, 512, 1, 1]          --\n",
       "│    │    └─Conv2d: 3-91                 [256, 512, 1, 1]          2,359,296\n",
       "│    │    └─BatchNorm2d: 3-92            [256, 512, 1, 1]          1,024\n",
       "│    │    └─ReLU: 3-93                   [256, 512, 1, 1]          --\n",
       "│    └─BasicBlock: 2-16                  [256, 512, 1, 1]          --\n",
       "│    │    └─Conv2d: 3-94                 [256, 512, 1, 1]          2,359,296\n",
       "│    │    └─BatchNorm2d: 3-95            [256, 512, 1, 1]          1,024\n",
       "│    │    └─ReLU: 3-96                   [256, 512, 1, 1]          --\n",
       "│    │    └─Conv2d: 3-97                 [256, 512, 1, 1]          2,359,296\n",
       "│    │    └─BatchNorm2d: 3-98            [256, 512, 1, 1]          1,024\n",
       "│    │    └─ReLU: 3-99                   [256, 512, 1, 1]          --\n",
       "├─AdaptiveAvgPool2d: 1-9                 [256, 512, 1, 1]          --\n",
       "├─Linear: 1-10                           [256, 10]                 5,130\n",
       "==========================================================================================\n",
       "Total params: 21,289,802\n",
       "Trainable params: 21,289,802\n",
       "Non-trainable params: 0\n",
       "Total mult-adds (G): 18.15\n",
       "==========================================================================================\n",
       "Input size (MB): 2.41\n",
       "Forward/backward pass size (MB): 273.17\n",
       "Params size (MB): 85.16\n",
       "Estimated Total Size (MB): 360.74\n",
       "=========================================================================================="
      ]
     },
     "execution_count": 15,
     "metadata": {},
     "output_type": "execute_result"
    }
   ],
   "source": [
    "from torchinfo import summary\n",
    "summary(model, input_size=(batch_size, 3, 28, 28))\n"
   ]
  }
 ],
 "metadata": {
  "kernelspec": {
   "display_name": "py39_general",
   "language": "python",
   "name": "python3"
  },
  "language_info": {
   "codemirror_mode": {
    "name": "ipython",
    "version": 3
   },
   "file_extension": ".py",
   "mimetype": "text/x-python",
   "name": "python",
   "nbconvert_exporter": "python",
   "pygments_lexer": "ipython3",
   "version": "3.9.16"
  },
  "orig_nbformat": 4
 },
 "nbformat": 4,
 "nbformat_minor": 2
}
